{
 "cells": [
  {
   "cell_type": "markdown",
   "metadata": {},
   "source": [
    "## Modelo de machine learning \"recomendar peliculas\""
   ]
  },
  {
   "cell_type": "code",
   "execution_count": 5,
   "metadata": {},
   "outputs": [
    {
     "name": "stdout",
     "output_type": "stream",
     "text": [
      "['Raise the Titanic', 'Ghost Voyage', 'Dustbin Baby', 'The Legend of 1900', 'Titanic 2']\n"
     ]
    }
   ],
   "source": [
    "from sklearn.feature_extraction.text import TfidfVectorizer\n",
    "from sklearn.metrics.pairwise import cosine_similarity\n",
    "import pandas as pd\n",
    "\n",
    "df = pd.read_parquet('dataset_movies.parquet')\n",
    "\n",
    "tfidf_vectorizer = TfidfVectorizer(stop_words='english')\n",
    "tfidf_matrix = tfidf_vectorizer.fit_transform(df['overview'].fillna(''))\n",
    "\n",
    "def recomendar_peliculas(titulo_pelicula, num_recomendaciones=5):\n",
    "    # Obtenemos el índice de la película\n",
    "    idx = df[df['title'] == titulo_pelicula].index[0]\n",
    "    \n",
    "    # Calculamos la similitud con todas las demás películas\n",
    "    cosine_similarities = cosine_similarity(tfidf_matrix[idx:idx+1], tfidf_matrix).flatten()\n",
    "    \n",
    "    # Obtenemos los índices de las películas más similares\n",
    "    similar_indices = cosine_similarities.argsort()[-num_recomendaciones-1:-1][::-1]\n",
    "    \n",
    "    # Obtenemos los nombres de las películas más similares\n",
    "    similar_movies = df['title'].iloc[similar_indices].tolist()\n",
    "    return similar_movies\n",
    "\n",
    "# Ejemplo de uso\n",
    "print(recomendar_peliculas('Titanic'))\n"
   ]
  }
 ],
 "metadata": {
  "kernelspec": {
   "display_name": "Python 3",
   "language": "python",
   "name": "python3"
  },
  "language_info": {
   "codemirror_mode": {
    "name": "ipython",
    "version": 3
   },
   "file_extension": ".py",
   "mimetype": "text/x-python",
   "name": "python",
   "nbconvert_exporter": "python",
   "pygments_lexer": "ipython3",
   "version": "3.12.1"
  }
 },
 "nbformat": 4,
 "nbformat_minor": 2
}
